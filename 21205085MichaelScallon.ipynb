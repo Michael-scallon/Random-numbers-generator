{
 "cells": [
  {
   "cell_type": "code",
   "execution_count": null,
   "id": "a420d757",
   "metadata": {},
   "outputs": [],
   "source": [
    "import time\n",
    "\n",
    "class MyRandom():\n",
    "    def __init__(self,**kwargs):\n",
    "        self.a = 48271\n",
    "        self.m = ((2**31)-1)\n",
    "        if 'seed' in kwargs:\n",
    "            self.seed = kwargs['seed']\n",
    "        else:\n",
    "            self.seed = int(time.time())\n",
    "    \n",
    "    def randint(self,*args):\n",
    "        self.seed = (self.a * self.seed) % self.m \n",
    "        if len(args)==2 and args[0]<args[1]:\n",
    "            a =(self.a * self.seed) % self.m\n",
    "            b = args[0]\n",
    "            c = args[1]\n",
    "            return int((a/self.m)*(c-b) + b)\n",
    "        elif len(args)==2 and args[0]>=args[1]:\n",
    "            return \"Please ensure first number is less than second number to find a random number in a range\"\n",
    "        elif len(args)==0: \n",
    "            self.seed = (self.a * self.seed) % self.m \n",
    "            return self.seed\n",
    "        else:\n",
    "            return \"Error:Please enter two numbers for a random number in that range or none to recieve a random number with out a range\"\n",
    "    \n",
    "    def newseed(self,*args):\n",
    "\n",
    "        if len(args)==0 :\n",
    "            self.seed = int(time.time())\n",
    "        elif len(args)== 1 :\n",
    "            self.seed = int(*args)\n",
    "        else:\n",
    "            print(\"error\")\n",
    "\n",
    "\n",
    "        \n",
    "    def rand(self):\n",
    "        y = self.randint()\n",
    "        z = self.randint()\n",
    "        if y>z:\n",
    "            return z/y\n",
    "        else:\n",
    "            return y/z\n",
    "    \n",
    "    def choice(self,*args):\n",
    "        \n",
    "        q = []\n",
    "        r = self.randint()\n",
    "        s = int((r/self.m) * len(args[0]))\n",
    "        t = args[0][s]\n",
    "        q.append(t)       \n",
    "        return q\n",
    "       \n",
    "    def shuffle(self,*args):\n",
    "        m = [] \n",
    "        while len(args[0])>0:\n",
    "            n = self.randint()\n",
    "            o = int((n/self.m) * len(args[0]))\n",
    "            l = args[0][o]\n",
    "            args[0].remove(l) \n",
    "            m.append(l)\n",
    "            \n",
    "        return m\n",
    "\n",
    "    \n",
    "class dice(MyRandom):\n",
    "    def __init__(self):\n",
    "        MyRandom.__init__(self)\n",
    "    \n",
    "    def throw(self):\n",
    "        g = self.randint()\n",
    "        h = int(((g/self.m)*6)+1)\n",
    "        return h\n",
    "    \n",
    "class coin(MyRandom):\n",
    "    def __init__(self):\n",
    "        MyRandom.__init__(self)  \n",
    "    \n",
    "    def toss(self):\n",
    "        c = self.randint()\n",
    "        d = int(((c/self.m)*2)+1)\n",
    "        if d == 1:\n",
    "            f = \"Heads\"\n",
    "        else:\n",
    "            f = \"Tails\"\n",
    "        return f   \n",
    "    "
   ]
  },
  {
   "cell_type": "code",
   "execution_count": null,
   "id": "25921bc4",
   "metadata": {},
   "outputs": [],
   "source": [
    "apple = MyRandom()"
   ]
  },
  {
   "cell_type": "code",
   "execution_count": null,
   "id": "e9639ec3",
   "metadata": {},
   "outputs": [],
   "source": [
    "apple.randint(1,10)"
   ]
  },
  {
   "cell_type": "code",
   "execution_count": null,
   "id": "02ea2be6",
   "metadata": {},
   "outputs": [],
   "source": [
    "try:\n",
    "    apple.randint(1,a)\n",
    "except NameError:\n",
    "    print(\"Error please enter valid integers\")"
   ]
  },
  {
   "cell_type": "code",
   "execution_count": null,
   "id": "5e1c1db6",
   "metadata": {},
   "outputs": [],
   "source": [
    "for i in range(5):\n",
    "    print(apple.randint())"
   ]
  },
  {
   "cell_type": "code",
   "execution_count": null,
   "id": "4b5f7a95",
   "metadata": {},
   "outputs": [],
   "source": [
    "try:\n",
    "    apple.newseed(a)\n",
    "except NameError:\n",
    "    print(\"Error please enter valid integer\")"
   ]
  },
  {
   "cell_type": "code",
   "execution_count": null,
   "id": "bdb7e24c",
   "metadata": {},
   "outputs": [],
   "source": [
    "apple.newseed()\n"
   ]
  },
  {
   "cell_type": "code",
   "execution_count": null,
   "id": "92cd0fec",
   "metadata": {},
   "outputs": [],
   "source": [
    "apple.newseed(1)"
   ]
  },
  {
   "cell_type": "code",
   "execution_count": null,
   "id": "ae09c0ed",
   "metadata": {},
   "outputs": [],
   "source": [
    "apple.rand()"
   ]
  },
  {
   "cell_type": "code",
   "execution_count": null,
   "id": "89400982",
   "metadata": {},
   "outputs": [],
   "source": [
    "apple.choice([1,2,3,4,5,6,7,8,9])\n"
   ]
  },
  {
   "cell_type": "code",
   "execution_count": null,
   "id": "987c7ae2",
   "metadata": {},
   "outputs": [],
   "source": [
    "apple.shuffle([1,2,3,4,5,6,7,8,9])"
   ]
  },
  {
   "cell_type": "code",
   "execution_count": null,
   "id": "73a0d442",
   "metadata": {},
   "outputs": [],
   "source": [
    "orange = dice()"
   ]
  },
  {
   "cell_type": "code",
   "execution_count": null,
   "id": "ed608b02",
   "metadata": {},
   "outputs": [],
   "source": [
    "orange.throw()"
   ]
  },
  {
   "cell_type": "code",
   "execution_count": null,
   "id": "f68878e6",
   "metadata": {},
   "outputs": [],
   "source": [
    "banana = coin()"
   ]
  },
  {
   "cell_type": "code",
   "execution_count": null,
   "id": "e508ef0f",
   "metadata": {},
   "outputs": [],
   "source": [
    "banana.toss()"
   ]
  },
  {
   "cell_type": "code",
   "execution_count": null,
   "id": "4f92c39d",
   "metadata": {},
   "outputs": [],
   "source": []
  },
  {
   "cell_type": "code",
   "execution_count": null,
   "id": "4e52d4b4",
   "metadata": {},
   "outputs": [],
   "source": []
  }
 ],
 "metadata": {
  "kernelspec": {
   "display_name": "Python 3",
   "language": "python",
   "name": "python3"
  },
  "language_info": {
   "codemirror_mode": {
    "name": "ipython",
    "version": 3
   },
   "file_extension": ".py",
   "mimetype": "text/x-python",
   "name": "python",
   "nbconvert_exporter": "python",
   "pygments_lexer": "ipython3",
   "version": "3.8.8"
  }
 },
 "nbformat": 4,
 "nbformat_minor": 5
}
